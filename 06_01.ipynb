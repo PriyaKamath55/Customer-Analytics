{
 "cells": [
  {
   "cell_type": "code",
   "execution_count": 1,
   "metadata": {},
   "outputs": [],
   "source": [
    "import pandas as pd"
   ]
  },
  {
   "cell_type": "code",
   "execution_count": null,
   "metadata": {},
   "outputs": [],
   "source": [
    "\"\"\" Customer Remarks:\n",
    "\n",
    "Companies collect customer feedback, which can be positive or negative.\n",
    "These remarks are used to understand customer sentiments and identify advocates (loyal customers who promote the company).\n",
    "\n",
    "Natural Language Processing (NLP):\n",
    "\n",
    "NLP is a field of AI that helps computers understand human language.\n",
    "In this context, NLP is used to analyze customer remarks and determine their sentiment (positive, negative, or neutral).\n",
    "\n",
    "\n",
    "Steps in Python:\n",
    "Loading Data:\n",
    "\n",
    "Customer remarks are loaded into a Python DataFrame for analysis.\n",
    "\n",
    "Tokenizing Text:\n",
    "\n",
    "Tokenization is the process of breaking down text into individual words or tokens.\n",
    "Using nltk (Natural Language Toolkit), we tokenize the customer remarks to analyze each word.\n",
    "\n",
    "Vectorizing Text:\n",
    "\n",
    "Convert the text data into numerical data using CountVectorizer from scikit-learn.\n",
    "This step creates a matrix of word counts, making it easier to analyze the frequency of each word.\n",
    "\n",
    "Sentiment Analysis:\n",
    "\n",
    "Use the vaderSentiment package to analyze the sentiment of the remarks.\n",
    "The SentimentIntensityAnalyzer assigns a score to each remark, indicating whether it is positive, negative, or neutral.\n",
    "\n",
    "\n",
    "Example:\n",
    "Customer Remark: \"This is the best bank on the planet.\"\n",
    "\n",
    "Sentiment: Positive\n",
    "\n",
    "Customer Remark: \"Lots of changes to their savings account product. It is terrible.\"\n",
    "\n",
    "Sentiment: Negative\n",
    "\n",
    "\n",
    "Identifying Advocates:\n",
    "By analyzing the sentiment scores of customer remarks, you can identify which customers are advocates (those with consistently positive remarks).\n",
    "This information can be used to engage with these advocates and leverage their positive feedback to promote the company.\n",
    "\n",
    "Practical Application:\n",
    "In your role, you can use these techniques to analyze feedback from stakeholders or members of your organization.\n",
    "This can help you identify key supporters and understand areas for improvement.\n",
    "\"\"\""
   ]
  },
  {
   "cell_type": "code",
   "execution_count": 2,
   "metadata": {},
   "outputs": [],
   "source": [
    "df = pd.read_csv(\"data/ci-data.csv\")"
   ]
  },
  {
   "cell_type": "code",
   "execution_count": 3,
   "metadata": {},
   "outputs": [
    {
     "data": {
      "text/plain": [
       "0    In hac habitasse platea dictumst. Etiam faucib...\n",
       "1    Praesent blandit. Nam nulla. Integer pede just...\n",
       "2    Praesent id massa id nisl venenatis lacinia. A...\n",
       "3    In hac habitasse platea dictumst. Morbi vestib...\n",
       "4    Pellentesque at nulla. Suspendisse potenti. Cr...\n",
       "Name: remarks, dtype: object"
      ]
     },
     "execution_count": 3,
     "metadata": {},
     "output_type": "execute_result"
    }
   ],
   "source": [
    "df.remarks[0:5]"
   ]
  },
  {
   "cell_type": "code",
   "execution_count": 4,
   "metadata": {},
   "outputs": [],
   "source": [
    "remarks = ['This is the best bank on the planet.',\n",
    "           'Lots of changes to their savings account product. It is terrible.',\n",
    "           'The new app takes some getting used to but it is good once you learn it']"
   ]
  },
  {
   "cell_type": "code",
   "execution_count": 5,
   "metadata": {},
   "outputs": [
    {
     "name": "stderr",
     "output_type": "stream",
     "text": [
      "[nltk_data] Downloading package punkt to\n",
      "[nltk_data]     /Users/chrisdallavilla/nltk_data...\n",
      "[nltk_data]   Package punkt is already up-to-date!\n"
     ]
    },
    {
     "data": {
      "text/plain": [
       "True"
      ]
     },
     "execution_count": 5,
     "metadata": {},
     "output_type": "execute_result"
    }
   ],
   "source": [
    "from sklearn.feature_extraction.text import CountVectorizer\n",
    "import nltk\n",
    "nltk.download('punkt')"
   ]
  },
  {
   "cell_type": "code",
   "execution_count": 7,
   "metadata": {},
   "outputs": [],
   "source": [
    "remarks_token_counts = CountVectorizer(min_df=1, tokenizer=nltk.word_tokenize)"
   ]
  },
  {
   "cell_type": "code",
   "execution_count": 8,
   "metadata": {},
   "outputs": [],
   "source": [
    "remarks_as_sparse_vector = remarks_token_counts.fit_transform(remarks)"
   ]
  },
  {
   "cell_type": "code",
   "execution_count": 9,
   "metadata": {},
   "outputs": [
    {
     "data": {
      "text/plain": [
       "{'this': 25,\n",
       " 'is': 9,\n",
       " 'the': 23,\n",
       " 'best': 4,\n",
       " 'bank': 3,\n",
       " 'on': 15,\n",
       " 'planet': 17,\n",
       " '.': 0,\n",
       " 'lots': 12,\n",
       " 'of': 14,\n",
       " 'changes': 6,\n",
       " 'to': 26,\n",
       " 'their': 24,\n",
       " 'savings': 19,\n",
       " 'account': 1,\n",
       " 'product': 18,\n",
       " 'it': 10,\n",
       " 'terrible': 22,\n",
       " 'new': 13,\n",
       " 'app': 2,\n",
       " 'takes': 21,\n",
       " 'some': 20,\n",
       " 'getting': 7,\n",
       " 'used': 27,\n",
       " 'but': 5,\n",
       " 'good': 8,\n",
       " 'once': 16,\n",
       " 'you': 28,\n",
       " 'learn': 11}"
      ]
     },
     "execution_count": 9,
     "metadata": {},
     "output_type": "execute_result"
    }
   ],
   "source": [
    "remarks_token_counts.vocabulary_"
   ]
  },
  {
   "cell_type": "code",
   "execution_count": 10,
   "metadata": {},
   "outputs": [],
   "source": [
    "from vaderSentiment.vaderSentiment import SentimentIntensityAnalyzer"
   ]
  },
  {
   "cell_type": "code",
   "execution_count": 11,
   "metadata": {},
   "outputs": [],
   "source": [
    "analyser = SentimentIntensityAnalyzer()"
   ]
  },
  {
   "cell_type": "code",
   "execution_count": 12,
   "metadata": {},
   "outputs": [],
   "source": [
    "def sentiment_analyser_scores(sentence):\n",
    "    score = analyser.polarity_scores(sentence)\n",
    "    print(\"{}{}\".format(sentence, str(score)))"
   ]
  },
  {
   "cell_type": "code",
   "execution_count": 20,
   "metadata": {},
   "outputs": [
    {
     "name": "stdout",
     "output_type": "stream",
     "text": [
      "Best!!!!{'neg': 0.0, 'neu': 1.0, 'pos': 0.0, 'compound': 0.0}\n"
     ]
    }
   ],
   "source": [
    "sentiment_analyser_scores(\"Best!!!!\")"
   ]
  },
  {
   "cell_type": "code",
   "execution_count": null,
   "metadata": {},
   "outputs": [],
   "source": []
  }
 ],
 "metadata": {
  "kernelspec": {
   "display_name": "Python 3 (ipykernel)",
   "language": "python",
   "name": "python3"
  },
  "language_info": {
   "codemirror_mode": {
    "name": "ipython",
    "version": 3
   },
   "file_extension": ".py",
   "mimetype": "text/x-python",
   "name": "python",
   "nbconvert_exporter": "python",
   "pygments_lexer": "ipython3",
   "version": "3.12.4"
  }
 },
 "nbformat": 4,
 "nbformat_minor": 4
}
